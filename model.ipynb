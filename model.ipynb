{
 "cells": [
  {
   "cell_type": "code",
   "execution_count": 3,
   "id": "a7bc07d5",
   "metadata": {},
   "outputs": [],
   "source": [
    "import os\n",
    "import io\n",
    "import zipfile\n",
    "import numpy as np\n",
    "import pandas as pd\n",
    "import matplotlib.pyplot as plt\n",
    "\n",
    "from sklearn.model_selection import train_test_split, GridSearchCV, StratifiedKFold\n",
    "from sklearn.feature_extraction.text import TfidfVectorizer, CountVectorizer\n",
    "from sklearn.pipeline import Pipeline\n",
    "from sklearn.naive_bayes import MultinomialNB\n",
    "from sklearn.linear_model import LogisticRegression\n",
    "from sklearn.svm import LinearSVC\n",
    "from sklearn.metrics import classification_report, confusion_matrix, accuracy_score, precision_recall_fscore_support\n",
    "from sklearn.utils import Bunch\n",
    "import joblib"
   ]
  },
  {
   "cell_type": "markdown",
   "id": "b87f5743",
   "metadata": {},
   "source": [
    "## Importing and describing Dataset"
   ]
  },
  {
   "cell_type": "code",
   "execution_count": 4,
   "id": "9ff79add",
   "metadata": {},
   "outputs": [],
   "source": [
    "data_path = \"spam.csv\"\n",
    "assert os.path.exists(data_path), f\"Dataset not found at {data_path}\""
   ]
  },
  {
   "cell_type": "code",
   "execution_count": 6,
   "id": "9a3be1b7",
   "metadata": {},
   "outputs": [],
   "source": [
    "df_raw = pd.read_csv(data_path, encoding=\"latin1\", engine=\"python\")\n",
    "# Try to normalize columns to ['label', 'message']\n",
    "df = df_raw.copy()"
   ]
  },
  {
   "cell_type": "code",
   "execution_count": 7,
   "id": "7eb4d889",
   "metadata": {},
   "outputs": [],
   "source": [
    "lower_cols = [str(c).strip().lower() for c in df.columns]"
   ]
  },
  {
   "cell_type": "code",
   "execution_count": 8,
   "id": "94982c31",
   "metadata": {},
   "outputs": [],
   "source": [
    "if set(lower_cols) >= {\"v1\", \"v2\"}:\n",
    "    # UCI format\n",
    "    df = df.rename(columns={df.columns[0]: \"label\", df.columns[1]: \"message\"})\n",
    "    # Drop extra columns if any\n",
    "    if df.shape[1] > 2:\n",
    "        df = df[[\"label\", \"message\"]]\n",
    "elif \"label\" in lower_cols and \"message\" in lower_cols:\n",
    "    # Already good\n",
    "    pass\n",
    "else:\n",
    "    # Try to infer\n",
    "    # Assume first text-like column is label and second is message\n",
    "    # Safer approach: if there are exactly two columns, use them\n",
    "    if df.shape[1] >= 2:\n",
    "        df = df.iloc[:, :2]\n",
    "        df.columns = [\"label\", \"message\"]\n",
    "    else:\n",
    "        raise ValueError(\"Could not infer columns for label/message. Ensure CSV has two columns: label, message.\")"
   ]
  },
  {
   "cell_type": "code",
   "execution_count": null,
   "id": "0183f16a",
   "metadata": {},
   "outputs": [],
   "source": [
    "# Striping and normalizing\n",
    "df[\"label\"] = df[\"label\"].astype(str).str.strip().str.lower()\n",
    "df[\"message\"] = df[\"message\"].astype(str).str.strip()"
   ]
  },
  {
   "cell_type": "code",
   "execution_count": null,
   "id": "0c39ac30",
   "metadata": {},
   "outputs": [],
   "source": [
    "# Basic cleaning: droping NA and duplicates\n",
    "df = df.dropna(subset=[\"label\", \"message\"]).drop_duplicates().reset_index(drop=True)"
   ]
  },
  {
   "cell_type": "code",
   "execution_count": 11,
   "id": "ab4b9e56",
   "metadata": {},
   "outputs": [],
   "source": [
    "# Describe dataset\n",
    "shape_info = df.shape\n",
    "label_counts = df[\"label\"].value_counts(dropna=False).rename_axis(\"label\").reset_index(name=\"count\")\n",
    "class_ratio = (label_counts.set_index(\"label\")[\"count\"] / len(df)).reset_index(name=\"ratio\")"
   ]
  },
  {
   "cell_type": "code",
   "execution_count": 14,
   "id": "713f1347",
   "metadata": {},
   "outputs": [
    {
     "name": "stdout",
     "output_type": "stream",
     "text": [
      "Dataset Preview (first 10 rows)\n",
      "  label                                            message\n",
      "0   ham  Go until jurong point, crazy.. Available only ...\n",
      "1   ham                      Ok lar... Joking wif u oni...\n",
      "2  spam  Free entry in 2 a wkly comp to win FA Cup fina...\n",
      "3   ham  U dun say so early hor... U c already then say...\n",
      "4   ham  Nah I don't think he goes to usf, he lives aro...\n",
      "5  spam  FreeMsg Hey there darling it's been 3 week's n...\n",
      "6   ham  Even my brother is not like to speak with me. ...\n",
      "7   ham  As per your request 'Melle Melle (Oru Minnamin...\n",
      "8  spam  WINNER!! As a valued network customer you have...\n",
      "9  spam  Had your mobile 11 months or more? U R entitle...\n",
      "Label Counts\n",
      "  label  count\n",
      "0   ham   4516\n",
      "1  spam    642\n",
      "Class Ratio\n",
      "  label     ratio\n",
      "0   ham  0.875533\n",
      "1  spam  0.124467\n"
     ]
    }
   ],
   "source": [
    "# Show to user\n",
    "print(\"Dataset Preview (first 10 rows)\")\n",
    "print(df.head(10))\n",
    "print(\"Label Counts\")\n",
    "print(label_counts)\n",
    "print(\"Class Ratio\")\n",
    "print(class_ratio)"
   ]
  },
  {
   "cell_type": "markdown",
   "id": "1762d051",
   "metadata": {},
   "source": [
    "## Exploratory Data Analysis (EDA) with Visualizations"
   ]
  },
  {
   "cell_type": "code",
   "execution_count": null,
   "id": "50374ae9",
   "metadata": {},
   "outputs": [],
   "source": [
    "# Adding simple text-length features\n",
    "df[\"char_len\"] = df[\"message\"].str.len()\n",
    "df[\"word_len\"] = df[\"message\"].str.split().apply(len)"
   ]
  },
  {
   "cell_type": "code",
   "execution_count": 16,
   "id": "1b2f667a",
   "metadata": {},
   "outputs": [
    {
     "data": {
      "image/png": "[encoded data removed]",
      "text/plain": [
       "<Figure size 640x480 with 1 Axes>"
      ]
     },
     "metadata": {},
     "output_type": "display_data"
    }
   ],
   "source": [
    "# Plot 1: Class distribution\n",
    "plt.figure()\n",
    "label_counts_plot = label_counts.copy()\n",
    "plt.bar(label_counts_plot[\"label\"], label_counts_plot[\"count\"])\n",
    "plt.title(\"Class Distribution (Spam vs Ham)\")\n",
    "plt.xlabel(\"Class\")\n",
    "plt.ylabel(\"Count\")\n",
    "plt.tight_layout()\n",
    "plt.show()"
   ]
  },
  {
   "cell_type": "code",
   "execution_count": 17,
   "id": "908e461a",
   "metadata": {},
   "outputs": [
    {
     "data": {
      "image/png": "[encoded data removed]",
      "text/plain": [
       "<Figure size 640x480 with 1 Axes>"
      ]
     },
     "metadata": {},
     "output_type": "display_data"
    }
   ],
   "source": [
    "# Plot 2: Histogram of message length (characters) - overall\n",
    "plt.figure()\n",
    "plt.hist(df[\"char_len\"], bins=50)\n",
    "plt.title(\"Histogram of Message Length (characters) - Overall\")\n",
    "plt.xlabel(\"Characters\")\n",
    "plt.ylabel(\"Frequency\")\n",
    "plt.tight_layout()\n",
    "plt.show()"
   ]
  },
  {
   "cell_type": "code",
   "execution_count": 18,
   "id": "79f1aab1",
   "metadata": {},
   "outputs": [
    {
     "data": {
      "image/png": "[encoded data removed]",
      "text/plain": [
       "<Figure size 640x480 with 1 Axes>"
      ]
     },
     "metadata": {},
     "output_type": "display_data"
    }
   ],
   "source": [
    "# Plot 3: Histogram of message length (characters) - ham only\n",
    "plt.figure()\n",
    "plt.hist(df.loc[df[\"label\"] == \"ham\", \"char_len\"], bins=50)\n",
    "plt.title(\"Histogram of Message Length (characters) - Ham\")\n",
    "plt.xlabel(\"Characters\")\n",
    "plt.ylabel(\"Frequency\")\n",
    "plt.tight_layout()\n",
    "plt.show()"
   ]
  },
  {
   "cell_type": "code",
   "execution_count": 19,
   "id": "8a9a52ea",
   "metadata": {},
   "outputs": [
    {
     "data": {
      "image/png": "[encoded data removed]",
      "text/plain": [
       "<Figure size 640x480 with 1 Axes>"
      ]
     },
     "metadata": {},
     "output_type": "display_data"
    }
   ],
   "source": [
    "# Plot 4: Histogram of message length (characters) - spam only\n",
    "plt.figure()\n",
    "plt.hist(df.loc[df[\"label\"] == \"spam\", \"char_len\"], bins=50)\n",
    "plt.title(\"Histogram of Message Length (characters) - Spam\")\n",
    "plt.xlabel(\"Characters\")\n",
    "plt.ylabel(\"Frequency\")\n",
    "plt.tight_layout()\n",
    "plt.show()"
   ]
  },
  {
   "cell_type": "code",
   "execution_count": 21,
   "id": "8fe5865b",
   "metadata": {},
   "outputs": [
    {
     "name": "stdout",
     "output_type": "stream",
     "text": [
      "Top 20 Terms - Ham\n",
      "     term  count\n",
      "0      gt    288\n",
      "1      lt    287\n",
      "2    just    278\n",
      "3      ok    255\n",
      "4      ll    232\n",
      "5     got    226\n",
      "6    know    225\n",
      "7    like    222\n",
      "8    good    215\n",
      "9    come    211\n",
      "10     ur    198\n",
      "11   time    192\n",
      "12    day    182\n",
      "13   love    180\n",
      "14  going    164\n",
      "15   want    160\n",
      "16    lor    159\n",
      "17   home    156\n",
      "18   need    154\n",
      "19    don    144\n",
      "Top 20 Terms - Spam\n",
      "      term  count\n",
      "0     free    190\n",
      "1      txt    132\n",
      "2       ur    119\n",
      "3     stop    109\n",
      "4     text    108\n",
      "5   mobile    105\n",
      "6    reply     96\n",
      "7    claim     95\n",
      "8      www     81\n",
      "9    prize     79\n",
      "10    just     65\n",
      "11     new     64\n",
      "12    cash     64\n",
      "13    150p     61\n",
      "14      uk     59\n",
      "15    send     58\n",
      "16     won     58\n",
      "17  urgent     57\n",
      "18   nokia     53\n",
      "19     msg     50\n"
     ]
    }
   ],
   "source": [
    "# Plot 5 & 6: Top 20 words in ham vs spam (CountVectorizer)\n",
    "def top_terms_by_class(df, label_value, topn=20):\n",
    "    vec = CountVectorizer(stop_words=\"english\", lowercase=True)\n",
    "    X = vec.fit_transform(df.loc[df[\"label\"] == label_value, \"message\"])\n",
    "    term_sums = np.asarray(X.sum(axis=0)).ravel()\n",
    "    terms = np.array(vec.get_feature_names_out())\n",
    "    order = term_sums.argsort()[::-1][:topn]\n",
    "    return pd.DataFrame({\"term\": terms[order], \"count\": term_sums[order]})\n",
    "\n",
    "top_ham = top_terms_by_class(df, \"ham\", topn=20)\n",
    "top_spam = top_terms_by_class(df, \"spam\", topn=20)\n",
    "\n",
    "print(\"Top 20 Terms - Ham\")\n",
    "print(top_ham)\n",
    "print(\"Top 20 Terms - Spam\")\n",
    "print(top_spam)"
   ]
  },
  {
   "cell_type": "code",
   "execution_count": 22,
   "id": "1ce04886",
   "metadata": {},
   "outputs": [
    {
     "data": {
      "image/png": "[encoded data removed]",
      "text/plain": [
       "<Figure size 800x400 with 1 Axes>"
      ]
     },
     "metadata": {},
     "output_type": "display_data"
    }
   ],
   "source": [
    "# Plot 5: Top 20 Ham terms\n",
    "plt.figure(figsize=(8, 4))\n",
    "plt.bar(top_ham[\"term\"], top_ham[\"count\"])\n",
    "plt.title(\"Top 20 Terms (Ham)\")\n",
    "plt.xlabel(\"Term\")\n",
    "plt.ylabel(\"Count\")\n",
    "plt.xticks(rotation=90)\n",
    "plt.tight_layout()\n",
    "plt.show()"
   ]
  },
  {
   "cell_type": "code",
   "execution_count": 23,
   "id": "84503321",
   "metadata": {},
   "outputs": [
    {
     "data": {
      "image/png": "[encoded data removed]",
      "text/plain": [
       "<Figure size 800x400 with 1 Axes>"
      ]
     },
     "metadata": {},
     "output_type": "display_data"
    }
   ],
   "source": [
    "# Plot 6: Top 20 Spam terms\n",
    "plt.figure(figsize=(8, 4))\n",
    "plt.bar(top_spam[\"term\"], top_spam[\"count\"])\n",
    "plt.title(\"Top 20 Terms (Spam)\")\n",
    "plt.xlabel(\"Term\")\n",
    "plt.ylabel(\"Count\")\n",
    "plt.xticks(rotation=90)\n",
    "plt.tight_layout()\n",
    "plt.show()"
   ]
  },
  {
   "cell_type": "code",
   "execution_count": 25,
   "id": "302cdec5",
   "metadata": {},
   "outputs": [
    {
     "name": "stdout",
     "output_type": "stream",
     "text": [
      "Summary Statistics (pre-vectorization)\n",
      "         metric        value\n",
      "0     n_samples  5158.000000\n",
      "1    n_features          NaN\n",
      "2      pct_spam     0.124467\n",
      "3       pct_ham     0.875533\n",
      "4  avg_char_len    78.783249\n",
      "5  avg_word_len    15.317759\n"
     ]
    }
   ],
   "source": [
    "# Quick statistical summary\n",
    "summary_stats = pd.DataFrame({\n",
    "    \"metric\": [\"n_samples\", \"n_features\", \"pct_spam\", \"pct_ham\", \"avg_char_len\", \"avg_word_len\"],\n",
    "    \"value\": [\n",
    "        len(df),\n",
    "        None,  # will be known after vectorization; placeholder\n",
    "        (df[\"label\"] == \"spam\").mean(),\n",
    "        (df[\"label\"] == \"ham\").mean(),\n",
    "        df[\"char_len\"].mean(),\n",
    "        df[\"word_len\"].mean(),\n",
    "    ]\n",
    "})\n",
    "print(\"Summary Statistics (pre-vectorization)\")\n",
    "print(summary_stats)"
   ]
  },
  {
   "cell_type": "markdown",
   "id": "846d94f2",
   "metadata": {},
   "source": [
    "## Interpret EDA & Decide Modeling Approach (printed text)"
   ]
  },
  {
   "cell_type": "code",
   "execution_count": 26,
   "id": "89db3c3c",
   "metadata": {},
   "outputs": [
    {
     "name": "stdout",
     "output_type": "stream",
     "text": [
      "\n",
      "EDA Interpretation & Modeling Decision:\n",
      "- The dataset shows an imbalanced but manageable class distribution (typically ham > spam).\n",
      "- Spam messages tend to be longer on average (characters/words), and contain promotional / action-oriented terms.\n",
      "- Bag-of-words or TF-IDF representations are strong baselines for SMS classification.\n",
      "- We will compare traditional ML models (MultinomialNB, Logistic Regression, Linear SVM) using TF-IDF features.\n",
      "- We'll use Stratified K-Fold (k=5) with Grid Search for hyperparameter tuning.\n",
      "- The best-performing model on validation F1 will be persisted and used in a Streamlit app.\n",
      "\n"
     ]
    }
   ],
   "source": [
    "interpretation = \"\"\"\n",
    "EDA Interpretation & Modeling Decision:\n",
    "- The dataset shows an imbalanced but manageable class distribution (typically ham > spam).\n",
    "- Spam messages tend to be longer on average (characters/words), and contain promotional / action-oriented terms.\n",
    "- Bag-of-words or TF-IDF representations are strong baselines for SMS classification.\n",
    "- We will compare traditional ML models (MultinomialNB, Logistic Regression, Linear SVM) using TF-IDF features.\n",
    "- We'll use Stratified K-Fold (k=5) with Grid Search for hyperparameter tuning.\n",
    "- The best-performing model on validation F1 will be persisted and used in a Streamlit app.\n",
    "\"\"\"\n",
    "print(interpretation)"
   ]
  },
  {
   "cell_type": "markdown",
   "id": "cca60644",
   "metadata": {},
   "source": [
    "## Training & Evaluating ML with K-Fold CV + Grid Search"
   ]
  },
  {
   "cell_type": "code",
   "execution_count": 27,
   "id": "3b6b0eaf",
   "metadata": {},
   "outputs": [],
   "source": [
    "# Preparing data\n",
    "X = df[\"message\"].values\n",
    "y = df[\"label\"].values"
   ]
  },
  {
   "cell_type": "code",
   "execution_count": 29,
   "id": "1963e257",
   "metadata": {},
   "outputs": [],
   "source": [
    "# Train/Test split for final holdout evaluation\n",
    "X_train, X_test, y_train, y_test = train_test_split(\n",
    "    X, y, test_size=0.2, random_state=42, stratify=y\n",
    ")\n",
    "\n",
    "cv = StratifiedKFold(n_splits=5, shuffle=True, random_state=42)"
   ]
  },
  {
   "cell_type": "code",
   "execution_count": null,
   "id": "ee4feb5d",
   "metadata": {},
   "outputs": [],
   "source": [
    "# Defining pipelines and grids\n",
    "pipelines_and_grids = []"
   ]
  },
  {
   "cell_type": "code",
   "execution_count": 31,
   "id": "b7b6993e",
   "metadata": {},
   "outputs": [],
   "source": [
    "# 1) Multinomial Naive Bayes\n",
    "pipe_nb = Pipeline([\n",
    "    (\"tfidf\", TfidfVectorizer(lowercase=True, stop_words=\"english\", strip_accents=\"unicode\")),\n",
    "    (\"clf\", MultinomialNB())\n",
    "])\n",
    "grid_nb = {\n",
    "    \"tfidf__ngram_range\": [(1,1), (1,2)],\n",
    "    \"tfidf__min_df\": [1, 2],\n",
    "    \"clf__alpha\": [0.1, 0.5, 1.0]\n",
    "}\n",
    "pipelines_and_grids.append((\"MultinomialNB\", pipe_nb, grid_nb))"
   ]
  },
  {
   "cell_type": "code",
   "execution_count": 32,
   "id": "4de87363",
   "metadata": {},
   "outputs": [],
   "source": [
    "# 2) Logistic Regression\n",
    "pipe_lr = Pipeline([\n",
    "    (\"tfidf\", TfidfVectorizer(lowercase=True, stop_words=\"english\", strip_accents=\"unicode\")),\n",
    "    (\"clf\", LogisticRegression(max_iter=200, solver=\"liblinear\"))\n",
    "])\n",
    "grid_lr = {\n",
    "    \"tfidf__ngram_range\": [(1,1), (1,2)],\n",
    "    \"tfidf__min_df\": [1, 2],\n",
    "    \"clf__C\": [0.5, 1.0, 2.0],\n",
    "    \"clf__penalty\": [\"l2\"]\n",
    "}\n",
    "pipelines_and_grids.append((\"LogisticRegression\", pipe_lr, grid_lr))"
   ]
  },
  {
   "cell_type": "code",
   "execution_count": 33,
   "id": "36a96b60",
   "metadata": {},
   "outputs": [],
   "source": [
    "# 3) Linear SVM\n",
    "pipe_svm = Pipeline([\n",
    "    (\"tfidf\", TfidfVectorizer(lowercase=True, stop_words=\"english\", strip_accents=\"unicode\")),\n",
    "    (\"clf\", LinearSVC())\n",
    "])\n",
    "grid_svm = {\n",
    "    \"tfidf__ngram_range\": [(1,1), (1,2)],\n",
    "    \"tfidf__min_df\": [1, 2],\n",
    "    \"clf__C\": [0.5, 1.0, 2.0]\n",
    "}\n",
    "pipelines_and_grids.append((\"LinearSVC\", pipe_svm, grid_svm))\n"
   ]
  },
  {
   "cell_type": "code",
   "execution_count": 34,
   "id": "79fd8fa8",
   "metadata": {},
   "outputs": [],
   "source": [
    "results = []\n",
    "best_models = {}"
   ]
  },
  {
   "cell_type": "code",
   "execution_count": 36,
   "id": "bb34c103",
   "metadata": {},
   "outputs": [
    {
     "name": "stdout",
     "output_type": "stream",
     "text": [
      "Model Comparison (Validation + Test Metrics)                 model                                        best_params  \\\n",
      "0       MultinomialNB  {'clf__alpha': 0.1, 'tfidf__min_df': 1, 'tfidf...   \n",
      "1       MultinomialNB  {'clf__alpha': 0.1, 'tfidf__min_df': 1, 'tfidf...   \n",
      "2           LinearSVC  {'clf__C': 2.0, 'tfidf__min_df': 2, 'tfidf__ng...   \n",
      "3           LinearSVC  {'clf__C': 2.0, 'tfidf__min_df': 2, 'tfidf__ng...   \n",
      "4  LogisticRegression  {'clf__C': 2.0, 'clf__penalty': 'l2', 'tfidf__...   \n",
      "5  LogisticRegression  {'clf__C': 2.0, 'clf__penalty': 'l2', 'tfidf__...   \n",
      "\n",
      "   cv_f1_macro  test_accuracy  test_precision_macro  test_recall_macro  \\\n",
      "0     0.963464       0.984496              0.976754           0.950913   \n",
      "1     0.963464       0.984496              0.976754           0.950913   \n",
      "2     0.959592       0.986434              0.981469           0.955372   \n",
      "3     0.959592       0.986434              0.981469           0.955372   \n",
      "4     0.923545       0.977713              0.983435           0.913509   \n",
      "5     0.923545       0.977713              0.983435           0.913509   \n",
      "\n",
      "   test_f1_macro  \n",
      "0       0.963337  \n",
      "1       0.963337  \n",
      "2       0.967920  \n",
      "3       0.967920  \n",
      "4       0.944776  \n",
      "5       0.944776  \n"
     ]
    }
   ],
   "source": [
    "for name, pipe, grid in pipelines_and_grids:\n",
    "    gs = GridSearchCV(\n",
    "        estimator=pipe,\n",
    "        param_grid=grid,\n",
    "        scoring=\"f1_macro\",   # macro to balance classes\n",
    "        cv=cv,\n",
    "        n_jobs=-1,\n",
    "        verbose=0\n",
    "    )\n",
    "    gs.fit(X_train, y_train)\n",
    "    best_models[name] = gs.best_estimator_\n",
    "    # Evaluate on validation (cv) score and on test split\n",
    "    val_score = gs.best_score_\n",
    "    y_pred_test = gs.best_estimator_.predict(X_test)\n",
    "    test_acc = accuracy_score(y_test, y_pred_test)\n",
    "    pr, rc, f1, _ = precision_recall_fscore_support(y_test, y_pred_test, average=\"macro\", zero_division=0)\n",
    "    results.append({\n",
    "        \"model\": name,\n",
    "        \"best_params\": gs.best_params_,\n",
    "        \"cv_f1_macro\": val_score,\n",
    "        \"test_accuracy\": test_acc,\n",
    "        \"test_precision_macro\": pr,\n",
    "        \"test_recall_macro\": rc,\n",
    "        \"test_f1_macro\": f1\n",
    "    })\n",
    "\n",
    "results_df = pd.DataFrame(results).sort_values(\"cv_f1_macro\", ascending=False).reset_index(drop=True)\n",
    "print(\"Model Comparison (Validation + Test Metrics)\", results_df)\n"
   ]
  },
  {
   "cell_type": "code",
   "execution_count": null,
   "id": "eac78605",
   "metadata": {},
   "outputs": [
    {
     "name": "stdout",
     "output_type": "stream",
     "text": [
      "Selected Best Model: MultinomialNB\n",
      "Best Validation F1 (macro): 0.9635\n",
      "Test Accuracy: 0.9845\n",
      "Test Precision (macro): 0.9768\n",
      "Test Recall (macro): 0.9509\n",
      "Test F1 (macro): 0.9633\n"
     ]
    }
   ],
   "source": [
    "# Picking best by validation F1\n",
    "best_row = results_df.iloc[0]\n",
    "best_model_name = best_row[\"model\"]\n",
    "best_pipeline = best_models[best_model_name]\n",
    "\n",
    "print(f\"Selected Best Model: {best_model_name}\")\n",
    "print(\"Best Validation F1 (macro):\", round(best_row[\"cv_f1_macro\"], 4))\n",
    "print(\"Test Accuracy:\", round(best_row[\"test_accuracy\"], 4))\n",
    "print(\"Test Precision (macro):\", round(best_row[\"test_precision_macro\"], 4))\n",
    "print(\"Test Recall (macro):\", round(best_row[\"test_recall_macro\"], 4))\n",
    "print(\"Test F1 (macro):\", round(best_row[\"test_f1_macro\"], 4))"
   ]
  },
  {
   "cell_type": "code",
   "execution_count": 38,
   "id": "1382c0a2",
   "metadata": {},
   "outputs": [
    {
     "name": "stdout",
     "output_type": "stream",
     "text": [
      "Confusion Matrix (Test Set)            pred_ham  pred_spam\n",
      "true_ham        900          4\n",
      "true_spam        12        116\n"
     ]
    }
   ],
   "source": [
    "# Confusion matrix on test set\n",
    "cm = confusion_matrix(y_test, best_pipeline.predict(X_test), labels=[\"ham\", \"spam\"])\n",
    "cm_df = pd.DataFrame(cm, index=[\"true_ham\", \"true_spam\"], columns=[\"pred_ham\", \"pred_spam\"])\n",
    "print(\"Confusion Matrix (Test Set)\", cm_df)"
   ]
  },
  {
   "cell_type": "code",
   "execution_count": 43,
   "id": "8b78b5fd",
   "metadata": {},
   "outputs": [
    {
     "data": {
      "image/png": "[encoded data removed]",
      "text/plain": [
       "<Figure size 640x480 with 2 Axes>"
      ]
     },
     "metadata": {},
     "output_type": "display_data"
    }
   ],
   "source": [
    "plt.figure()\n",
    "plt.imshow(cm, interpolation=\"nearest\", cmap=plt.cm.Blues)\n",
    "plt.title(\"Confusion Matrix (Test)\")\n",
    "plt.colorbar()\n",
    "tick_marks = np.arange(2)\n",
    "plt.xticks(tick_marks, [\"ham\", \"spam\"])\n",
    "plt.yticks(tick_marks, [\"ham\", \"spam\"])\n",
    "\n",
    "thresh = cm.max() / 2.\n",
    "for i in range(cm.shape[0]):\n",
    "    for j in range(cm.shape[1]):\n",
    "        plt.text(j, i, format(cm[i, j], 'd'),\n",
    "                 horizontalalignment=\"center\",\n",
    "                 color=\"white\" if cm[i, j] > thresh else \"black\")\n",
    "\n",
    "plt.xlabel(\"Predicted\")\n",
    "plt.ylabel(\"True\")\n",
    "plt.tight_layout()\n",
    "plt.show()"
   ]
  },
  {
   "cell_type": "code",
   "execution_count": 44,
   "id": "c7e3ea04",
   "metadata": {},
   "outputs": [
    {
     "name": "stdout",
     "output_type": "stream",
     "text": [
      "Classification Report (Best Model on Test Set):\n",
      "\n",
      "              precision    recall  f1-score   support\n",
      "\n",
      "         ham       0.99      1.00      0.99       904\n",
      "        spam       0.97      0.91      0.94       128\n",
      "\n",
      "    accuracy                           0.98      1032\n",
      "   macro avg       0.98      0.95      0.96      1032\n",
      "weighted avg       0.98      0.98      0.98      1032\n",
      "\n"
     ]
    }
   ],
   "source": [
    "# Detailed classification report\n",
    "report_text = classification_report(y_test, best_pipeline.predict(X_test))\n",
    "print(\"Classification Report (Best Model on Test Set):\\n\")\n",
    "print(report_text)"
   ]
  },
  {
   "cell_type": "markdown",
   "id": "db4fc98f",
   "metadata": {},
   "source": [
    "## Selecting and saving the best model"
   ]
  },
  {
   "cell_type": "code",
   "execution_count": 46,
   "id": "6d44e503",
   "metadata": {},
   "outputs": [
    {
     "name": "stdout",
     "output_type": "stream",
     "text": [
      "Best model saved to: sms_spam_best_model.joblib\n"
     ]
    }
   ],
   "source": [
    "model_path = \"sms_spam_best_model.joblib\"\n",
    "joblib.dump(best_pipeline, model_path)\n",
    "print(f\"Best model saved to: {model_path}\")"
   ]
  },
  {
   "cell_type": "markdown",
   "id": "75ed6091",
   "metadata": {},
   "source": [
    "## Loading saved model and making predictions from new data"
   ]
  },
  {
   "cell_type": "code",
   "execution_count": 48,
   "id": "dc158f4d",
   "metadata": {},
   "outputs": [
    {
     "name": "stdout",
     "output_type": "stream",
     "text": [
      "Sample Predictions (Loaded Model)                                                 text prediction  confidence\n",
      "0  Congratulations! You have won a free ticket. C...       spam    0.990491\n",
      "1   Hey, are we meeting at 5 pm today near the cafe?        ham    0.996655\n",
      "2  URGENT! Your account has been suspended. Verif...       spam    0.897642\n",
      "3  Please review the attached report and share yo...        ham    0.960726\n"
     ]
    }
   ],
   "source": [
    "loaded_model = joblib.load(model_path)\n",
    "samples = [\n",
    "    \"Congratulations! You have won a free ticket. Call now to claim your prize.\",\n",
    "    \"Hey, are we meeting at 5 pm today near the cafe?\",\n",
    "    \"URGENT! Your account has been suspended. Verify your identity immediately.\",\n",
    "    \"Please review the attached report and share your feedback.\"\n",
    "]\n",
    "preds = loaded_model.predict(samples)\n",
    "proba_support = hasattr(loaded_model.named_steps[\"clf\"], \"predict_proba\")\n",
    "if proba_support:\n",
    "    proba = loaded_model.predict_proba(samples).max(axis=1)\n",
    "else:\n",
    "    # For models without predict_proba (e.g., LinearSVC), use decision_function scaled\n",
    "    if hasattr(loaded_model.named_steps[\"clf\"], \"decision_function\"):\n",
    "        scores = loaded_model.decision_function(samples)\n",
    "        # Convert decision scores to 0..1 via a simple logistic transform for display\n",
    "        proba = 1 / (1 + np.exp(-np.abs(scores)))\n",
    "        if proba.ndim > 1:\n",
    "            proba = proba.max(axis=1)\n",
    "    else:\n",
    "        proba = np.array([np.nan]*len(samples))\n",
    "\n",
    "pred_df = pd.DataFrame({\"text\": samples, \"prediction\": preds, \"confidence\": proba})\n",
    "print(\"Sample Predictions (Loaded Model)\", pred_df)\n",
    "\n",
    "# -----------------------------"
   ]
  },
  {
   "cell_type": "markdown",
   "id": "1ed09dd8",
   "metadata": {},
   "source": [
    "## Generating a Streamlit App + Project Files, and Zip for GitHub"
   ]
  },
  {
   "cell_type": "code",
   "execution_count": 50,
   "id": "4cec307b",
   "metadata": {},
   "outputs": [
    {
     "data": {
      "text/plain": [
       "['sms_spam_project\\\\sms_spam_best_model.joblib']"
      ]
     },
     "execution_count": 50,
     "metadata": {},
     "output_type": "execute_result"
    }
   ],
   "source": [
    "project_dir = \"sms_spam_project\"\n",
    "os.makedirs(project_dir, exist_ok=True)\n",
    "\n",
    "# Save the model into the project\n",
    "project_model_path = os.path.join(project_dir, \"sms_spam_best_model.joblib\")\n",
    "joblib.dump(best_pipeline, project_model_path)"
   ]
  }
 ],
 "metadata": {
  "kernelspec": {
   "display_name": "Python 3",
   "language": "python",
   "name": "python3"
  },
  "language_info": {
   "codemirror_mode": {
    "name": "ipython",
    "version": 3
   },
   "file_extension": ".py",
   "mimetype": "text/x-python",
   "name": "python",
   "nbconvert_exporter": "python",
   "pygments_lexer": "ipython3",
   "version": "3.13.7"
  }
 },
 "nbformat": 4,
 "nbformat_minor": 5
}
